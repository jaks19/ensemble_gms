{
 "cells": [
  {
   "cell_type": "code",
   "execution_count": null,
   "metadata": {},
   "outputs": [],
   "source": [
    "from utils import load_data, get_grid_edges, Publisher\n",
    "from code_p_graph_fast import Pairwise_Graph\n",
    "\n",
    "from ERM import *\n",
    "from Ensemble import *\n",
    "from GibbsNet import *\n",
    "\n",
    "import random"
   ]
  },
  {
   "cell_type": "markdown",
   "metadata": {},
   "source": [
    "### Entry point for our code\n",
    "\n",
    "The code below combines all the other modules in this folder, to reproduce our experiments. To keep default experiment settings, only change the following:\n",
    "* `mode` (choose between 'AGM', 'EGM' or 'GibbsNet')\n",
    "* `data_name` (can be one of: 'MNIST', 'CALTECH', pumsb_star', 'accidents', 'adult', 'bnetflix', 'connect4', 'jester', 'mushrooms', 'nltcs', 'voting', 'c20ng')\n",
    "\n",
    "Also, if you would like to save a model, change the `model_save_path` and `model_save_name` from `None` to your desired path and label for the saved file.  \n",
    "\n",
    "**This should allow reproducing experiments I and II. \n",
    "See text after code for experiment III instructions.**"
   ]
  },
  {
   "cell_type": "code",
   "execution_count": null,
   "metadata": {
    "scrolled": true
   },
   "outputs": [],
   "source": [
    "### Change which experiment to run here\n",
    "mode = 'EGM' # can be 'AGM', 'EGM' or 'GibbsNet'\n",
    "data_name='MNIST' # can be one of: ['MNIST', 'CALTECH', pumsb_star', 'accidents', 'adult', 'bnetflix', 'connect4', 'jester', 'mushrooms', 'nltcs', 'voting', 'c20ng']\n",
    "\n",
    "### If you would like to save the model, add a path and name for the model\n",
    "model_save_path = None\n",
    "model_save_name = None\n",
    "\n",
    "### Instead of train or test from data_name, if you would like to load custom data from a saved PyTorch tensor\n",
    "custom_train_data_path = None\n",
    "custom_test_data_path = None\n",
    "\n",
    "#####\n",
    "# Leave unchanged from here for default experiment settings\n",
    "cap_train=None\n",
    "cap_test=1000\n",
    "train_batch_size=128\n",
    "test_batch_size=128 if mode != 'AGM' else 16\n",
    "print(f'data: {data_name}')\n",
    "\n",
    "train_loader, test_loader, variables = load_data(name=data_name, custom_train_data_path=custom_train_data_path, custom_test_data_path=custom_test_data_path, cap_train=cap_train, cap_test=cap_test, train_bs=train_batch_size, test_bs=test_batch_size)\n",
    "train_batch_size = min(len(train_loader.dataset), train_batch_size)\n",
    "test_batch_size = min(len(test_loader.dataset), test_batch_size)\n",
    "train_loader, test_loader, variables = load_data(name=data_name, custom_train_data_path=custom_train_data_path, custom_test_data_path=custom_test_data_path, cap_train=cap_train, cap_test=cap_test, train_bs=train_batch_size, test_bs=test_batch_size)\n",
    "\n",
    "alphabet = [0,1]\n",
    "n_vars = len(variables)\n",
    "publisher = Publisher()\n",
    "\n",
    "if data_name in ['MNIST', 'CALTECH']:\n",
    "    chosen_edges = get_grid_edges(width=28)\n",
    "    mode_images = True\n",
    "else:\n",
    "    from itertools import combinations\n",
    "    chosen_edges = random.sample(list(combinations(range(n_vars), 2)), min(len(list(combinations(range(n_vars), 2))), n_vars*5))\n",
    "    mode_images = False\n",
    "\n",
    "G = Pairwise_Graph(edges=chosen_edges, dct_node_idx_to_alphabet={v: [0,1] for v in variables})\n",
    "G.alphabet = [0,1]\n",
    "\n",
    "torch.random.manual_seed(0)\n",
    "np.random.seed(0)\n",
    "random.seed(0)\n",
    "\n",
    "# args set (2) in here for training procedure\n",
    "\n",
    "if mode == 'AGM':\n",
    "    main_AGM(\n",
    "        data_name=data_name,\n",
    "        train_loader=train_loader,\n",
    "        test_loader=test_loader,\n",
    "        G = G,\n",
    "        publisher=publisher,\n",
    "        mode_images=mode_images,\n",
    "        z_dimension=None, \n",
    "        lamb=10, \n",
    "        M = 1000,\n",
    "        ratio_D_to_G=10, \n",
    "        lr=1e-4, \n",
    "        n_bp_steps=5, \n",
    "        n_steps=10000,\n",
    "        device='cuda:0',\n",
    "        test_frac=True,\n",
    "        test_squares=mode_images,\n",
    "        test_quads=mode_images,\n",
    "        test_corrupt=mode_images,\n",
    "        test_every=5000,\n",
    "        model_save_path=model_save_path,\n",
    "        model_save_name=model_save_name,\n",
    "        sample_save_n=None,\n",
    "        sample_save_path=None\n",
    "    )\n",
    "\n",
    "elif mode == 'EGM':\n",
    "    main_EGM(\n",
    "        data_name=data_name,\n",
    "        train_loader=train_loader,\n",
    "        test_loader=test_loader,\n",
    "        G = G,\n",
    "        publisher=publisher,\n",
    "        mode_images=mode_images,  \n",
    "        lr=1e-2,\n",
    "        n_bp_steps=25, \n",
    "        n_steps=1000, \n",
    "        device='cuda:0', \n",
    "        test_frac=True,\n",
    "        test_squares=mode_images,\n",
    "        test_quads=mode_images,\n",
    "        test_corrupt=mode_images,\n",
    "        test_every=500,\n",
    "        model_save_path=model_save_path,\n",
    "        model_save_name=model_save_name,\n",
    "        sample_save_n=None,\n",
    "        sample_save_burnin=None,\n",
    "        sample_save_path=None)\n",
    "\n",
    "elif mode == 'GibbsNet':\n",
    "    main_GibbsNet(\n",
    "        data_name=data_name,\n",
    "        train_loader=train_loader,\n",
    "        test_loader=test_loader,\n",
    "        G=G,\n",
    "        publisher=publisher,\n",
    "        mode_images=mode_images,\n",
    "        z_dimension=None, \n",
    "        lamb=10, \n",
    "        sampling_count=5,\n",
    "        ratio_D_to_G=10, \n",
    "        lr=5e-5, \n",
    "        n_steps=10000,\n",
    "        device='cuda:0',\n",
    "        test_frac=True,\n",
    "        test_squares=mode_images,\n",
    "        test_quads=mode_images,\n",
    "        test_corrupt=mode_images,\n",
    "        test_every=5000,\n",
    "        model_save_path=model_save_path,\n",
    "        model_save_name=model_save_name)\n",
    "        \n",
    "else: raise NotImplementedError\n",
    "#####"
   ]
  },
  {
   "cell_type": "markdown",
   "metadata": {},
   "source": [
    "**To reproduce Experiment III**, one needs to first train EGM or AGM on some data from `data_name`, store samples from this model, then train an EGM on this saved data, and test on `data_name`.\n",
    "\n",
    "To save samples from EGM or AGM, you need to provide a:\n",
    "* `sample_save_path` for path to save samples as a pytorch tensor\n",
    "* `sample_save_n` for number of samples, e.g. 1000\n",
    "* `sample_save_burnin` in case EGM is the model being used as it uses a Gibbs sampler\n",
    "\n",
    "Hence for experiment III, one needs to run twice. First time, run with some `data_name` of choice, and save samples by providing a `sample_save_path`, `sample_save_n=1000`. And if EGM, also give a `sample_save_burnin`.\n",
    "\n",
    "Then, for the second run, again provide `data_name` to allow fetching the data for testing, but to train on your sampled data, provide a `custom_train_data_path` (which equals the `sample_save_path` used in the first run).\n",
    "\n",
    "Side note: The data loader always loads data from some `data_name` (train and test), then discards train or test respectively, whenever `custom_train_data_path` or `custom_test_data_path` is provided."
   ]
  },
  {
   "cell_type": "code",
   "execution_count": null,
   "metadata": {},
   "outputs": [],
   "source": []
  }
 ],
 "metadata": {
  "kernelspec": {
   "display_name": "pySpark (Spark 2.2.0) [conda env:root] *",
   "language": "python",
   "name": "conda-root-pyspark"
  },
  "language_info": {
   "codemirror_mode": {
    "name": "ipython",
    "version": 3
   },
   "file_extension": ".py",
   "mimetype": "text/x-python",
   "name": "python",
   "nbconvert_exporter": "python",
   "pygments_lexer": "ipython3",
   "version": "3.6.9"
  },
  "latex_envs": {
   "LaTeX_envs_menu_present": true,
   "autoclose": false,
   "autocomplete": true,
   "bibliofile": "biblio.bib",
   "cite_by": "apalike",
   "current_citInitial": 1,
   "eqLabelWithNumbers": true,
   "eqNumInitial": 1,
   "hotkeys": {
    "equation": "Ctrl-E",
    "itemize": "Ctrl-I"
   },
   "labels_anchors": false,
   "latex_user_defs": false,
   "report_style_numbering": false,
   "user_envs_cfg": false
  },
  "nbpresent": {
   "slides": {
    "00e485ee-1b56-4005-97df-001170467a54": {
     "id": "00e485ee-1b56-4005-97df-001170467a54",
     "prev": "b66aae01-8c7e-41cd-87dc-b12f1ed48b80",
     "regions": {
      "0397f9ed-914a-47fe-8f95-f56dee6dc550": {
       "attrs": {
        "height": 0.8,
        "width": 0.8,
        "x": 0.1,
        "y": 0.1
       },
       "content": {
        "cell": "3ab0abe8-48eb-4157-8455-b2827d9e22ca",
        "part": "whole"
       },
       "id": "0397f9ed-914a-47fe-8f95-f56dee6dc550"
      }
     }
    },
    "05b37a49-5d73-44df-8694-4674f9326931": {
     "id": "05b37a49-5d73-44df-8694-4674f9326931",
     "prev": "5542d1ae-8e2f-4657-a367-41803a7ad2a3",
     "regions": {
      "45c45029-86bd-4d61-a984-7b88a1f535de": {
       "attrs": {
        "height": 0.8,
        "width": 0.8,
        "x": 0.1,
        "y": 0.1
       },
       "content": {
        "cell": "a0ca33a1-591e-4e3e-9ed3-59708a43d337",
        "part": "whole"
       },
       "id": "45c45029-86bd-4d61-a984-7b88a1f535de"
      }
     }
    },
    "05fe0232-2193-45c9-a965-fe0fd0c72ffa": {
     "id": "05fe0232-2193-45c9-a965-fe0fd0c72ffa",
     "prev": "35d8c746-6ceb-4a42-8dc7-af438189a16c",
     "regions": {
      "eb1ac7c0-5ad9-433f-afb2-e1159880a409": {
       "attrs": {
        "height": 0.8,
        "width": 0.8,
        "x": 0.1,
        "y": 0.1
       },
       "content": {
        "cell": "3ab0abe8-48eb-4157-8455-b2827d9e22ca",
        "part": "whole"
       },
       "id": "eb1ac7c0-5ad9-433f-afb2-e1159880a409"
      }
     }
    },
    "156d2130-820b-407c-819c-dc7dca4ef94e": {
     "id": "156d2130-820b-407c-819c-dc7dca4ef94e",
     "prev": "05fe0232-2193-45c9-a965-fe0fd0c72ffa",
     "regions": {
      "2a9d6c6e-828b-4520-a099-5dbb16a2a5d3": {
       "attrs": {
        "height": 0.8,
        "width": 0.8,
        "x": 0.1,
        "y": 0.1
       },
       "content": {
        "cell": "07061317-ab38-4acb-9cd7-398a17bd1ff6",
        "part": "whole"
       },
       "id": "2a9d6c6e-828b-4520-a099-5dbb16a2a5d3"
      }
     }
    },
    "1d3f5b39-a3ae-4716-a067-e6e7767f524c": {
     "id": "1d3f5b39-a3ae-4716-a067-e6e7767f524c",
     "prev": "e992bc6f-a451-4de7-9851-60903fe3756d",
     "regions": {
      "b35b6252-bec5-4b2a-9ab9-d096c57252dc": {
       "attrs": {
        "height": 0.8,
        "width": 0.8,
        "x": 0.1,
        "y": 0.1
       },
       "content": {
        "cell": "848072b0-d01f-4d88-9649-4d364e768704",
        "part": "whole"
       },
       "id": "b35b6252-bec5-4b2a-9ab9-d096c57252dc"
      }
     }
    },
    "230568ea-0677-483f-8cf7-8ed4b7208d70": {
     "id": "230568ea-0677-483f-8cf7-8ed4b7208d70",
     "prev": "5d289e82-5994-485c-b6b2-a2d09cbea551",
     "regions": {
      "916c05ea-5d2b-4290-b07b-e223933ea4a6": {
       "attrs": {
        "height": 0.8,
        "width": 0.8,
        "x": 0.1,
        "y": 0.1
       },
       "content": {
        "cell": "08bd0e75-9b4d-43df-a9eb-113daa91c398",
        "part": "whole"
       },
       "id": "916c05ea-5d2b-4290-b07b-e223933ea4a6"
      }
     }
    },
    "261f3550-a9d4-45b9-98a3-7ad482f60fd0": {
     "id": "261f3550-a9d4-45b9-98a3-7ad482f60fd0",
     "prev": null,
     "regions": {
      "cbd421ef-602b-4b6c-998c-ffb3b10b51c6": {
       "attrs": {
        "height": 0.8,
        "width": 0.8,
        "x": 0.1,
        "y": 0.1
       },
       "content": {
        "cell": "cc8c531a-7045-4a39-b706-7bb700132b23",
        "part": "whole"
       },
       "id": "cbd421ef-602b-4b6c-998c-ffb3b10b51c6"
      }
     }
    },
    "27708ea4-45e6-41f9-9b73-659e0394c463": {
     "id": "27708ea4-45e6-41f9-9b73-659e0394c463",
     "prev": "f49423f3-a925-4a20-9fda-2db16a5b1093",
     "regions": {
      "35b42d39-49e2-4c01-ac71-a207430077ae": {
       "attrs": {
        "height": 0.8,
        "width": 0.8,
        "x": 0.1,
        "y": 0.1
       },
       "content": {
        "cell": "31a50b21-b10c-40de-9cc4-f8d4091eb3de",
        "part": "whole"
       },
       "id": "35b42d39-49e2-4c01-ac71-a207430077ae"
      }
     }
    },
    "2e8df65a-3a6a-4588-8ce6-375c7dfd65b7": {
     "id": "2e8df65a-3a6a-4588-8ce6-375c7dfd65b7",
     "prev": "bfd901d5-8508-4d7b-9cfe-50525cb2b7be",
     "regions": {
      "4c98e05f-63d5-4359-9537-22793b541d9b": {
       "attrs": {
        "height": 0.8,
        "width": 0.8,
        "x": 0.1,
        "y": 0.1
       },
       "content": {
        "cell": "848072b0-d01f-4d88-9649-4d364e768704",
        "part": "whole"
       },
       "id": "4c98e05f-63d5-4359-9537-22793b541d9b"
      }
     }
    },
    "2f27c3b5-cc54-452a-9dc8-d0e8943a2bba": {
     "id": "2f27c3b5-cc54-452a-9dc8-d0e8943a2bba",
     "prev": "848dbf49-a8bb-43d9-8026-9b91e2095d42",
     "regions": {
      "3b48601b-f476-4d76-b295-5cabdac64e03": {
       "attrs": {
        "height": 0.8,
        "width": 0.8,
        "x": 0.1,
        "y": 0.1
       },
       "content": {
        "cell": "933b70df-c140-4ca4-ab7e-bb785042c6bc",
        "part": "whole"
       },
       "id": "3b48601b-f476-4d76-b295-5cabdac64e03"
      }
     }
    },
    "35d8c746-6ceb-4a42-8dc7-af438189a16c": {
     "id": "35d8c746-6ceb-4a42-8dc7-af438189a16c",
     "prev": "a7c0d4b5-179c-4a29-bfb3-443e18b980ab",
     "regions": {
      "a6eb7143-91a4-42bd-a1f4-4c39cc8b77c0": {
       "attrs": {
        "height": 0.8,
        "width": 0.8,
        "x": 0.1,
        "y": 0.1
       },
       "content": {
        "cell": "76a5f977-6172-4d5a-b008-fe7a000d288e",
        "part": "whole"
       },
       "id": "a6eb7143-91a4-42bd-a1f4-4c39cc8b77c0"
      }
     }
    },
    "5542d1ae-8e2f-4657-a367-41803a7ad2a3": {
     "id": "5542d1ae-8e2f-4657-a367-41803a7ad2a3",
     "prev": "156d2130-820b-407c-819c-dc7dca4ef94e",
     "regions": {
      "a9a8fd7f-e342-499b-a914-ee779d9067e8": {
       "attrs": {
        "height": 0.8,
        "width": 0.8,
        "x": 0.1,
        "y": 0.1
       },
       "content": {
        "cell": "1692aa03-b504-4fb8-a6ef-2acb2ee5b7ab",
        "part": "whole"
       },
       "id": "a9a8fd7f-e342-499b-a914-ee779d9067e8"
      }
     }
    },
    "5d289e82-5994-485c-b6b2-a2d09cbea551": {
     "id": "5d289e82-5994-485c-b6b2-a2d09cbea551",
     "prev": null,
     "regions": {
      "317bd9b3-cf29-48c4-96cf-b75f36e773e2": {
       "attrs": {
        "height": 0.8,
        "width": 0.8,
        "x": 0.1,
        "y": 0.1
       },
       "content": {
        "cell": "9765d3af-dc02-42b3-a668-8871a8f1c3f5",
        "part": "whole"
       },
       "id": "317bd9b3-cf29-48c4-96cf-b75f36e773e2"
      }
     }
    },
    "5d8eadf1-c5a2-4221-b4ab-1ee4b1956ce9": {
     "id": "5d8eadf1-c5a2-4221-b4ab-1ee4b1956ce9",
     "prev": "c3aeab27-22d0-46fe-a655-27f37673e80d",
     "regions": {
      "eb8a9f02-45c3-4de9-a722-36c9b3d8ae6d": {
       "attrs": {
        "height": 0.8,
        "width": 0.8,
        "x": 0.1,
        "y": 0.1
       },
       "content": {
        "cell": "3323b87e-14b5-400f-a184-6a72ae993457",
        "part": "whole"
       },
       "id": "eb8a9f02-45c3-4de9-a722-36c9b3d8ae6d"
      }
     }
    },
    "6392c51e-7737-4f65-8e7a-75861e2e4c61": {
     "id": "6392c51e-7737-4f65-8e7a-75861e2e4c61",
     "prev": "2e8df65a-3a6a-4588-8ce6-375c7dfd65b7",
     "regions": {
      "800c8adf-3c1e-4b57-8dd2-b237c12b2cb9": {
       "attrs": {
        "height": 0.8,
        "width": 0.8,
        "x": 0.1,
        "y": 0.1
       },
       "content": {
        "cell": "165f8649-5c93-4627-bff2-8d45acd3ed8f",
        "part": "whole"
       },
       "id": "800c8adf-3c1e-4b57-8dd2-b237c12b2cb9"
      }
     }
    },
    "66bb4cf5-414a-4a2f-8500-e7adbe85907b": {
     "id": "66bb4cf5-414a-4a2f-8500-e7adbe85907b",
     "prev": "230568ea-0677-483f-8cf7-8ed4b7208d70",
     "regions": {
      "5e193768-fccf-4cc9-bd6f-cfb063c15714": {
       "attrs": {
        "height": 0.8,
        "width": 0.8,
        "x": 0.1,
        "y": 0.1
       },
       "content": {
        "cell": "75c8feae-26b7-4320-a2f6-f9d120b434d5",
        "part": "whole"
       },
       "id": "5e193768-fccf-4cc9-bd6f-cfb063c15714"
      }
     }
    },
    "7223f9e2-313b-46b3-838f-7760fa30f95a": {
     "id": "7223f9e2-313b-46b3-838f-7760fa30f95a",
     "prev": "bf69ce73-e8fc-44b4-ba3c-e9d1d5dc2083",
     "regions": {
      "f3cfd087-a816-4fed-800a-a94a368a2b49": {
       "attrs": {
        "height": 0.8,
        "width": 0.8,
        "x": 0.1,
        "y": 0.1
       },
       "content": {
        "cell": "1692aa03-b504-4fb8-a6ef-2acb2ee5b7ab",
        "part": "whole"
       },
       "id": "f3cfd087-a816-4fed-800a-a94a368a2b49"
      }
     }
    },
    "7b3ca90b-f043-4f3c-a7e3-5b13bf9dfa73": {
     "id": "7b3ca90b-f043-4f3c-a7e3-5b13bf9dfa73",
     "prev": "2f27c3b5-cc54-452a-9dc8-d0e8943a2bba",
     "regions": {
      "6d2d95c2-8cf6-4a72-880c-f3783303e633": {
       "attrs": {
        "height": 0.8,
        "width": 0.8,
        "x": 0.1,
        "y": 0.1
       },
       "content": {
        "cell": "e5938a3f-432a-4135-b24e-9dd5cc95b023",
        "part": "whole"
       },
       "id": "6d2d95c2-8cf6-4a72-880c-f3783303e633"
      }
     }
    },
    "848dbf49-a8bb-43d9-8026-9b91e2095d42": {
     "id": "848dbf49-a8bb-43d9-8026-9b91e2095d42",
     "prev": "d05bf543-b200-4ed6-ad30-7c5ccf80ec44",
     "regions": {
      "87ca7bdb-b10d-4bd3-bf9e-4f51b4a1adef": {
       "attrs": {
        "height": 0.8,
        "width": 0.8,
        "x": 0.1,
        "y": 0.1
       },
       "content": {
        "cell": "31a50b21-b10c-40de-9cc4-f8d4091eb3de",
        "part": "whole"
       },
       "id": "87ca7bdb-b10d-4bd3-bf9e-4f51b4a1adef"
      }
     }
    },
    "87ab1cf6-fa24-4427-a6d4-815a15f34a36": {
     "id": "87ab1cf6-fa24-4427-a6d4-815a15f34a36",
     "prev": "261f3550-a9d4-45b9-98a3-7ad482f60fd0",
     "regions": {
      "8d18b8fd-e200-4213-8a27-7c837e9e5136": {
       "attrs": {
        "height": 0.8,
        "width": 0.8,
        "x": 0.1,
        "y": 0.1
       },
       "content": {
        "cell": "9765d3af-dc02-42b3-a668-8871a8f1c3f5",
        "part": "whole"
       },
       "id": "8d18b8fd-e200-4213-8a27-7c837e9e5136"
      }
     }
    },
    "9caf4813-1a24-4500-b250-1479de24a271": {
     "id": "9caf4813-1a24-4500-b250-1479de24a271",
     "prev": "05b37a49-5d73-44df-8694-4674f9326931",
     "regions": {
      "981ec9eb-71d3-4625-9514-2dfef1c3e2be": {
       "attrs": {
        "height": 0.8,
        "width": 0.8,
        "x": 0.1,
        "y": 0.1
       },
       "content": {
        "cell": "5ed07b07-b290-4b00-90f8-d13e221108a9",
        "part": "whole"
       },
       "id": "981ec9eb-71d3-4625-9514-2dfef1c3e2be"
      }
     }
    },
    "a7c0d4b5-179c-4a29-bfb3-443e18b980ab": {
     "id": "a7c0d4b5-179c-4a29-bfb3-443e18b980ab",
     "prev": "1d3f5b39-a3ae-4716-a067-e6e7767f524c",
     "regions": {
      "0c6ad774-d751-47d1-8b0b-3f8bce9ed9b6": {
       "attrs": {
        "height": 0.8,
        "width": 0.8,
        "x": 0.1,
        "y": 0.1
       },
       "content": {
        "cell": "165f8649-5c93-4627-bff2-8d45acd3ed8f",
        "part": "whole"
       },
       "id": "0c6ad774-d751-47d1-8b0b-3f8bce9ed9b6"
      }
     }
    },
    "a85e5bf4-9236-4e58-9534-1ee67c689a20": {
     "id": "a85e5bf4-9236-4e58-9534-1ee67c689a20",
     "prev": "7b3ca90b-f043-4f3c-a7e3-5b13bf9dfa73",
     "regions": {
      "5d3df22b-0451-4747-8163-a934c5f9453c": {
       "attrs": {
        "height": 0.8,
        "width": 0.8,
        "x": 0.1,
        "y": 0.1
       },
       "content": {
        "cell": "0e536ba3-001f-4167-83d9-c874645da2d0",
        "part": "whole"
       },
       "id": "5d3df22b-0451-4747-8163-a934c5f9453c"
      }
     }
    },
    "b4ed94e4-1c2c-496e-a8ae-09547db9d944": {
     "id": "b4ed94e4-1c2c-496e-a8ae-09547db9d944",
     "prev": "a85e5bf4-9236-4e58-9534-1ee67c689a20",
     "regions": {
      "65c1178c-b0fc-453f-8ab4-43878b3a1e14": {
       "attrs": {
        "height": 0.8,
        "width": 0.8,
        "x": 0.1,
        "y": 0.1
       },
       "content": {
        "cell": "3323b87e-14b5-400f-a184-6a72ae993457",
        "part": "whole"
       },
       "id": "65c1178c-b0fc-453f-8ab4-43878b3a1e14"
      }
     }
    },
    "b66aae01-8c7e-41cd-87dc-b12f1ed48b80": {
     "id": "b66aae01-8c7e-41cd-87dc-b12f1ed48b80",
     "prev": "6392c51e-7737-4f65-8e7a-75861e2e4c61",
     "regions": {
      "06006319-8f1a-4d99-9216-bb1814247e70": {
       "attrs": {
        "height": 0.8,
        "width": 0.8,
        "x": 0.1,
        "y": 0.1
       },
       "content": {
        "cell": "76a5f977-6172-4d5a-b008-fe7a000d288e",
        "part": "whole"
       },
       "id": "06006319-8f1a-4d99-9216-bb1814247e70"
      }
     }
    },
    "bf69ce73-e8fc-44b4-ba3c-e9d1d5dc2083": {
     "id": "bf69ce73-e8fc-44b4-ba3c-e9d1d5dc2083",
     "prev": "00e485ee-1b56-4005-97df-001170467a54",
     "regions": {
      "ead36147-1933-43a0-9355-03797cc1c23e": {
       "attrs": {
        "height": 0.8,
        "width": 0.8,
        "x": 0.1,
        "y": 0.1
       },
       "content": {
        "cell": "07061317-ab38-4acb-9cd7-398a17bd1ff6",
        "part": "whole"
       },
       "id": "ead36147-1933-43a0-9355-03797cc1c23e"
      }
     }
    },
    "bfd901d5-8508-4d7b-9cfe-50525cb2b7be": {
     "id": "bfd901d5-8508-4d7b-9cfe-50525cb2b7be",
     "prev": "66bb4cf5-414a-4a2f-8500-e7adbe85907b",
     "regions": {
      "3d980a0f-d6fb-4505-b2fd-c983d2e278d2": {
       "attrs": {
        "height": 0.8,
        "width": 0.8,
        "x": 0.1,
        "y": 0.1
       },
       "content": {
        "cell": "753e55dc-7a32-46d1-a085-cbd6ed539d34",
        "part": "whole"
       },
       "id": "3d980a0f-d6fb-4505-b2fd-c983d2e278d2"
      }
     }
    },
    "c3aeab27-22d0-46fe-a655-27f37673e80d": {
     "id": "c3aeab27-22d0-46fe-a655-27f37673e80d",
     "prev": "f69514cb-7da6-44c2-85d2-d7a6b39aee7d",
     "regions": {
      "77a588e5-b5bf-400e-bb49-1b3dc8b97ec5": {
       "attrs": {
        "height": 0.8,
        "width": 0.8,
        "x": 0.1,
        "y": 0.1
       },
       "content": {
        "cell": "0e536ba3-001f-4167-83d9-c874645da2d0",
        "part": "whole"
       },
       "id": "77a588e5-b5bf-400e-bb49-1b3dc8b97ec5"
      }
     }
    },
    "c4783baf-6103-41b4-aa32-5b549efa76fb": {
     "id": "c4783baf-6103-41b4-aa32-5b549efa76fb",
     "prev": "c4df1b63-0f3e-43b2-9fec-3aea3b9fcabf",
     "regions": {
      "e5706702-0ac2-4da2-b5e2-c6bae10c1730": {
       "attrs": {
        "height": 0.8,
        "width": 0.8,
        "x": 0.1,
        "y": 0.1
       },
       "content": {
        "cell": "75c8feae-26b7-4320-a2f6-f9d120b434d5",
        "part": "whole"
       },
       "id": "e5706702-0ac2-4da2-b5e2-c6bae10c1730"
      }
     }
    },
    "c4df1b63-0f3e-43b2-9fec-3aea3b9fcabf": {
     "id": "c4df1b63-0f3e-43b2-9fec-3aea3b9fcabf",
     "prev": "87ab1cf6-fa24-4427-a6d4-815a15f34a36",
     "regions": {
      "edf20775-7d56-4141-aaf2-b98ae7ca5fc2": {
       "attrs": {
        "height": 0.8,
        "width": 0.8,
        "x": 0.1,
        "y": 0.1
       },
       "content": {
        "cell": "08bd0e75-9b4d-43df-a9eb-113daa91c398",
        "part": "whole"
       },
       "id": "edf20775-7d56-4141-aaf2-b98ae7ca5fc2"
      }
     }
    },
    "d05bf543-b200-4ed6-ad30-7c5ccf80ec44": {
     "id": "d05bf543-b200-4ed6-ad30-7c5ccf80ec44",
     "prev": "d783d26b-b448-4db9-8a8a-43f4d05ceebd",
     "regions": {
      "ecfab4b1-3f51-4876-bc2a-e28beafecfcf": {
       "attrs": {
        "height": 0.8,
        "width": 0.8,
        "x": 0.1,
        "y": 0.1
       },
       "content": {
        "cell": "6fff8329-c0da-4941-85a3-52195ea47c2c",
        "part": "whole"
       },
       "id": "ecfab4b1-3f51-4876-bc2a-e28beafecfcf"
      }
     }
    },
    "d3125e48-e9b5-4912-bb10-a5d6f79bcbc0": {
     "id": "d3125e48-e9b5-4912-bb10-a5d6f79bcbc0",
     "prev": "27708ea4-45e6-41f9-9b73-659e0394c463",
     "regions": {
      "ba1af8cf-b23e-4640-90c2-2f33bb8e9218": {
       "attrs": {
        "height": 0.8,
        "width": 0.8,
        "x": 0.1,
        "y": 0.1
       },
       "content": {
        "cell": "933b70df-c140-4ca4-ab7e-bb785042c6bc",
        "part": "whole"
       },
       "id": "ba1af8cf-b23e-4640-90c2-2f33bb8e9218"
      }
     }
    },
    "d783d26b-b448-4db9-8a8a-43f4d05ceebd": {
     "id": "d783d26b-b448-4db9-8a8a-43f4d05ceebd",
     "prev": "dc193669-3f3e-468d-b978-6855210d3bd4",
     "regions": {
      "e900ce75-2ef3-4cd9-a534-514cd9188a9c": {
       "attrs": {
        "height": 0.8,
        "width": 0.8,
        "x": 0.1,
        "y": 0.1
       },
       "content": {
        "cell": "5ed07b07-b290-4b00-90f8-d13e221108a9",
        "part": "whole"
       },
       "id": "e900ce75-2ef3-4cd9-a534-514cd9188a9c"
      }
     }
    },
    "dc193669-3f3e-468d-b978-6855210d3bd4": {
     "id": "dc193669-3f3e-468d-b978-6855210d3bd4",
     "prev": "7223f9e2-313b-46b3-838f-7760fa30f95a",
     "regions": {
      "6d062ddf-0698-4172-8dfd-7e329d455d4d": {
       "attrs": {
        "height": 0.8,
        "width": 0.8,
        "x": 0.1,
        "y": 0.1
       },
       "content": {
        "cell": "a0ca33a1-591e-4e3e-9ed3-59708a43d337",
        "part": "whole"
       },
       "id": "6d062ddf-0698-4172-8dfd-7e329d455d4d"
      }
     }
    },
    "e992bc6f-a451-4de7-9851-60903fe3756d": {
     "id": "e992bc6f-a451-4de7-9851-60903fe3756d",
     "prev": "c4783baf-6103-41b4-aa32-5b549efa76fb",
     "regions": {
      "5593ed0d-67a7-4c12-a05d-6f0ab497ec70": {
       "attrs": {
        "height": 0.8,
        "width": 0.8,
        "x": 0.1,
        "y": 0.1
       },
       "content": {
        "cell": "753e55dc-7a32-46d1-a085-cbd6ed539d34",
        "part": "whole"
       },
       "id": "5593ed0d-67a7-4c12-a05d-6f0ab497ec70"
      }
     }
    },
    "f49423f3-a925-4a20-9fda-2db16a5b1093": {
     "id": "f49423f3-a925-4a20-9fda-2db16a5b1093",
     "prev": "9caf4813-1a24-4500-b250-1479de24a271",
     "regions": {
      "ba86868e-4b13-4499-bc7d-881ddf6427fa": {
       "attrs": {
        "height": 0.8,
        "width": 0.8,
        "x": 0.1,
        "y": 0.1
       },
       "content": {
        "cell": "6fff8329-c0da-4941-85a3-52195ea47c2c",
        "part": "whole"
       },
       "id": "ba86868e-4b13-4499-bc7d-881ddf6427fa"
      }
     }
    },
    "f69514cb-7da6-44c2-85d2-d7a6b39aee7d": {
     "id": "f69514cb-7da6-44c2-85d2-d7a6b39aee7d",
     "prev": "d3125e48-e9b5-4912-bb10-a5d6f79bcbc0",
     "regions": {
      "e372a099-66d4-434c-b902-351c6f950fbe": {
       "attrs": {
        "height": 0.8,
        "width": 0.8,
        "x": 0.1,
        "y": 0.1
       },
       "content": {
        "cell": "e5938a3f-432a-4135-b24e-9dd5cc95b023",
        "part": "whole"
       },
       "id": "e372a099-66d4-434c-b902-351c6f950fbe"
      }
     }
    }
   },
   "themes": {}
  },
  "toc": {
   "base_numbering": 1,
   "nav_menu": {},
   "number_sections": true,
   "sideBar": true,
   "skip_h1_title": false,
   "title_cell": "Table of Contents",
   "title_sidebar": "Contents",
   "toc_cell": false,
   "toc_position": {},
   "toc_section_display": true,
   "toc_window_display": false
  },
  "varInspector": {
   "cols": {
    "lenName": 16,
    "lenType": 16,
    "lenVar": 40
   },
   "kernels_config": {
    "python": {
     "delete_cmd_postfix": "",
     "delete_cmd_prefix": "del ",
     "library": "var_list.py",
     "varRefreshCmd": "print(var_dic_list())"
    },
    "r": {
     "delete_cmd_postfix": ") ",
     "delete_cmd_prefix": "rm(",
     "library": "var_list.r",
     "varRefreshCmd": "cat(var_dic_list()) "
    }
   },
   "types_to_exclude": [
    "module",
    "function",
    "builtin_function_or_method",
    "instance",
    "_Feature"
   ],
   "window_display": false
  }
 },
 "nbformat": 4,
 "nbformat_minor": 2
}
